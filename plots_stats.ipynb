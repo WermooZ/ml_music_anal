{
 "cells": [
  {
   "cell_type": "code",
   "execution_count": null,
   "metadata": {},
   "outputs": [],
   "source": [
    "import seaborn as sns\n",
    "import pandas as pd\n",
    "import matplotlib.pyplot as plt\n",
    "%matplotlib inline\n",
    "import numpy as np\n"
   ]
  },
  {
   "cell_type": "code",
   "execution_count": null,
   "metadata": {},
   "outputs": [],
   "source": [
    "df = pd.read_csv('output/preprocessed_output.csv')\n",
    "\n",
    "# data extraction\n",
    "df = df.filter(['root_note', 'duration'], axis=1)\n",
    "df.dropna(inplace=True)\n",
    "df['octave'] = df.apply(lambda row: row['root_note'][-1:], axis=1)\n",
    "df['note_name'] = df.apply(lambda row: row['root_note'][:-1], axis=1)\n"
   ]
  },
  {
   "cell_type": "code",
   "execution_count": null,
   "metadata": {},
   "outputs": [],
   "source": [
    "# visualize octave\n",
    "sns.countplot(y='octave', data=df)"
   ]
  },
  {
   "cell_type": "code",
   "execution_count": null,
   "metadata": {},
   "outputs": [],
   "source": [
    "#visualize notes\n",
    "sns.countplot(y='note_name', data=df ,order=df['note_name'].value_counts().sort_values().index)"
   ]
  },
  {
   "cell_type": "code",
   "execution_count": null,
   "metadata": {},
   "outputs": [],
   "source": [
    "# visualize durations\n",
    "sns.countplot(y='duration', data=df)"
   ]
  },
  {
   "cell_type": "code",
   "execution_count": null,
   "metadata": {},
   "outputs": [],
   "source": [
    "#sns.plot(y='root_freq', data=df)"
   ]
  },
  {
   "cell_type": "code",
   "execution_count": null,
   "metadata": {},
   "outputs": [],
   "source": [
    "print(df['duration'].unique())\n",
    "print(len(df['duration'].unique()))\n"
   ]
  },
  {
   "cell_type": "code",
   "execution_count": null,
   "metadata": {},
   "outputs": [],
   "source": [
    "print(df['root_note'].unique())"
   ]
  },
  {
   "cell_type": "code",
   "execution_count": null,
   "metadata": {},
   "outputs": [],
   "source": [
    "df['event'] = df.apply(lambda row: row['root_note'] + ' ' + str(row['duration']), axis=1)\n",
    "print(len(df['event'].unique()))"
   ]
  },
  {
   "cell_type": "code",
   "execution_count": null,
   "metadata": {},
   "outputs": [],
   "source": [
    "new = df[df['duration'] <= 1]\n",
    "len(new['duration'].unique())"
   ]
  },
  {
   "cell_type": "code",
   "execution_count": null,
   "metadata": {},
   "outputs": [],
   "source": [
    "df = pd.read_csv('output/preprocessed_output.csv')\n",
    "def calc_octave_range(song):\n",
    "    song['octave'] = song.apply(lambda row: int(row['root_note'][-1:]) if len(row['root_note']) > 1 else np.nan, axis=1)\n",
    "    min = song['octave'].min()\n",
    "    max = song['octave'].max()\n",
    "    return  min, max, max - min \n",
    "   \n",
    "\n",
    "processed = pd.DataFrame()\n",
    "songs_count = len(df['song'].unique())\n",
    "for song_idx in range(1, songs_count):\n",
    "    song = df[df['song'] == song_idx]\n",
    "    if len(song):\n",
    "        min_octave, max_octave, octave_range = calc_octave_range(song)\n",
    "        print(song_idx, min_octave, max_octave, octave_range)\n",
    "    "
   ]
  },
  {
   "cell_type": "code",
   "execution_count": null,
   "metadata": {},
   "outputs": [],
   "source": [
    "df"
   ]
  },
  {
   "cell_type": "code",
   "execution_count": null,
   "metadata": {},
   "outputs": [],
   "source": [
    "import music21\n",
    "note = music21.pitch.Pitch('G3')\n",
    "x = str(note.transpose(music21.interval.Interval(+7)))  \n",
    "print(x)"
   ]
  },
  {
   "cell_type": "code",
   "execution_count": null,
   "metadata": {},
   "outputs": [],
   "source": []
  }
 ],
 "metadata": {
  "kernelspec": {
   "display_name": "Python 3",
   "language": "python",
   "name": "python3"
  },
  "language_info": {
   "codemirror_mode": {
    "name": "ipython",
    "version": 3
   },
   "file_extension": ".py",
   "mimetype": "text/x-python",
   "name": "python",
   "nbconvert_exporter": "python",
   "pygments_lexer": "ipython3",
   "version": "3.7.4"
  }
 },
 "nbformat": 4,
 "nbformat_minor": 4
}
